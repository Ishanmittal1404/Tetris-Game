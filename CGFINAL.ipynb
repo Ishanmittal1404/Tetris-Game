{
 "cells": [
  {
   "cell_type": "markdown",
   "metadata": {},
   "source": [
    "# **Tetris Game**"
   ]
  },
  {
   "cell_type": "markdown",
   "metadata": {},
   "source": [
    "## Group No. 2\n",
    "* **Aditi Singh - B-01**\n",
    "* **Kimaya Vaidya - B-04**\n",
    "* **Ishan Mittal - B-46**\n",
    "* **Vaishnavi Kamdi - B-65**"
   ]
  },
  {
   "cell_type": "markdown",
   "metadata": {},
   "source": [
    "##### Import libraries and declare global variables"
   ]
  },
  {
   "cell_type": "code",
   "execution_count": 16,
   "metadata": {},
   "outputs": [],
   "source": [
    "import pygame\n",
    "import random\n",
    "\n",
    "pygame.font.init()\n",
    "\n",
    "# GLOBALS VARS\n",
    "s_width = 1080\n",
    "s_height = 720\n",
    "play_width = 300 \n",
    "play_height = 600  \n",
    "block_size = 30\n",
    "\n",
    "top_left_x = (s_width - play_width) // 2\n",
    "top_left_y = s_height - play_height"
   ]
  },
  {
   "cell_type": "markdown",
   "metadata": {},
   "source": [
    "##### Define Different Shapes Used for the game as well as Define the Color for each of them"
   ]
  },
  {
   "cell_type": "code",
   "execution_count": 17,
   "metadata": {},
   "outputs": [],
   "source": [
    "#Defined shapes with thier rotation\n",
    "S = [['.....',\n",
    "      '.....',\n",
    "      '..00.',\n",
    "      '.00..',\n",
    "      '.....'],\n",
    "     ['.....',\n",
    "      '..0..',\n",
    "      '..00.',\n",
    "      '...0.',\n",
    "      '.....']]\n",
    "\n",
    "Z = [['.....',\n",
    "      '.....',\n",
    "      '.00..',\n",
    "      '..00.',\n",
    "      '.....'],\n",
    "     ['.....',\n",
    "      '..0..',\n",
    "      '.00..',\n",
    "      '.0...',\n",
    "      '.....']]\n",
    "\n",
    "I = [['..0..',\n",
    "      '..0..',\n",
    "      '..0..',\n",
    "      '..0..',\n",
    "      '.....'],\n",
    "     ['.....',\n",
    "      '0000.',\n",
    "      '.....',\n",
    "      '.....',\n",
    "      '.....']]\n",
    "\n",
    "O = [['.....',\n",
    "      '.....',\n",
    "      '.00..',\n",
    "      '.00..',\n",
    "      '.....']]\n",
    "\n",
    "J = [['.....',\n",
    "      '.0...',\n",
    "      '.000.',\n",
    "      '.....',\n",
    "      '.....'],\n",
    "     ['.....',\n",
    "      '..00.',\n",
    "      '..0..',\n",
    "      '..0..',\n",
    "      '.....'],\n",
    "     ['.....',\n",
    "      '.....',\n",
    "      '.000.',\n",
    "      '...0.',\n",
    "      '.....'],\n",
    "     ['.....',\n",
    "      '..0..',\n",
    "      '..0..',\n",
    "      '.00..',\n",
    "      '.....']]\n",
    "\n",
    "L = [['.....',\n",
    "      '...0.',\n",
    "      '.000.',\n",
    "      '.....',\n",
    "      '.....'],\n",
    "     ['.....',\n",
    "      '..0..',\n",
    "      '..0..',\n",
    "      '..00.',\n",
    "      '.....'],\n",
    "     ['.....',\n",
    "      '.....',\n",
    "      '.000.',\n",
    "      '.0...',\n",
    "      '.....'],\n",
    "     ['.....',\n",
    "      '.00..',\n",
    "      '..0..',\n",
    "      '..0..',\n",
    "      '.....']]\n",
    "\n",
    "T = [['.....',\n",
    "      '..0..',\n",
    "      '.000.',\n",
    "      '.....',\n",
    "      '.....'],\n",
    "     ['.....',\n",
    "      '..0..',\n",
    "      '..00.',\n",
    "      '..0..',\n",
    "      '.....'],\n",
    "     ['.....',\n",
    "      '.....',\n",
    "      '.000.',\n",
    "      '..0..',\n",
    "      '.....'],\n",
    "     ['.....',\n",
    "      '..0..',\n",
    "      '.00..',\n",
    "      '..0..',\n",
    "      '.....']]\n",
    "\n",
    "shapes = [S, Z, I, O, J, L, T]\n",
    "shape_colors = [(0, 255, 0), (255, 0, 0), (0, 255, 255), (255, 255, 0), (255, 165, 0), (0, 0, 255), (128, 0, 128)]\n"
   ]
  },
  {
   "cell_type": "markdown",
   "metadata": {},
   "source": [
    "##### Define Peice Used to store information about every peice"
   ]
  },
  {
   "cell_type": "code",
   "execution_count": 18,
   "metadata": {},
   "outputs": [],
   "source": [
    "class Piece(object):  # *\n",
    "    def __init__(self, x, y, shape):\n",
    "        self.x = x\n",
    "        self.y = y\n",
    "        self.shape = shape\n",
    "        self.color = shape_colors[shapes.index(shape)]\n",
    "        self.rotation = 0"
   ]
  },
  {
   "cell_type": "markdown",
   "metadata": {},
   "source": [
    "##### Function defined to create a black grid to get shapes in them"
   ]
  },
  {
   "cell_type": "code",
   "execution_count": 19,
   "metadata": {},
   "outputs": [],
   "source": [
    "def create_grid(locked_pos={}):  # *\n",
    "    grid = [[(0,0,0) for _ in range(10)] for _ in range(20)] #[0,0,0] here means black color \n",
    "\n",
    "    for i in range(len(grid)):\n",
    "        for j in range(len(grid[i])):\n",
    "            if (j, i) in locked_pos:\n",
    "                c = locked_pos[(j,i)]  #locked_pos her defines the final position for the peice\n",
    "                grid[i][j] = c\n",
    "    return grid"
   ]
  },
  {
   "cell_type": "markdown",
   "metadata": {},
   "source": [
    "##### Function defined to draw grey lines in the grid to differentiate between the blocks"
   ]
  },
  {
   "cell_type": "code",
   "execution_count": 20,
   "metadata": {},
   "outputs": [],
   "source": [
    "def draw_grid(surface, grid):\n",
    "    for i in range(len(grid)):\n",
    "        pygame.draw.line(surface, (128,128,128), (top_left_x, top_left_y + i*block_size), (top_left_x+play_width, top_left_y+ i*block_size))\n",
    "        for j in range(len(grid[i])):\n",
    "        \n",
    "            pygame.draw.line(surface, (128, 128, 128), (top_left_x + j*block_size, top_left_y),(top_left_x + j*block_size, top_left_y + play_height))"
   ]
  },
  {
   "cell_type": "markdown",
   "metadata": {},
   "source": [
    "##### Function defined to get random shapes"
   ]
  },
  {
   "cell_type": "code",
   "execution_count": 21,
   "metadata": {},
   "outputs": [],
   "source": [
    "def get_shape():\n",
    "    return Piece(5, 0, random.choice(shapes))  # Return Random Shape           "
   ]
  },
  {
   "cell_type": "markdown",
   "metadata": {},
   "source": [
    "##### Function Defined to rotate the shape accordingly"
   ]
  },
  {
   "cell_type": "code",
   "execution_count": 22,
   "metadata": {},
   "outputs": [],
   "source": [
    "def convert_shape_format(shape):\n",
    "    positions = []\n",
    "    format = shape.shape[shape.rotation % len(shape.shape)] #To rotate the peice on press \n",
    "\n",
    "    for i, line in enumerate(format):\n",
    "        row = list(line)\n",
    "        for j, column in enumerate(row):\n",
    "            if column == '0':\n",
    "                positions.append((shape.x + j, shape.y + i))\n",
    "\n",
    "    for i, pos in enumerate(positions):\n",
    "        positions[i] = (pos[0] - 2, pos[1] - 4)\n",
    "\n",
    "    return positions"
   ]
  },
  {
   "cell_type": "markdown",
   "metadata": {},
   "source": [
    "##### Function defined to check if the space taken by a block is valid or not"
   ]
  },
  {
   "cell_type": "code",
   "execution_count": 23,
   "metadata": {},
   "outputs": [],
   "source": [
    "#Check if the location is not present in the locked_pos\n",
    "def valid_space(shape, grid):\n",
    "    ap = [[(j, i) for j in range(10) if grid[i][j] == (0,0,0)] for i in range(20)]\n",
    "    ap = [j for sub in ap for j in sub]\n",
    "\n",
    "    formatted = convert_shape_format(shape)\n",
    "\n",
    "    for pos in formatted:\n",
    "        if pos not in ap:\n",
    "            if pos[1] > -1:\n",
    "                return False\n",
    "    return True\n"
   ]
  },
  {
   "cell_type": "markdown",
   "metadata": {},
   "source": [
    "##### Function defined to draw text in the middle of the screen "
   ]
  },
  {
   "cell_type": "code",
   "execution_count": 24,
   "metadata": {},
   "outputs": [],
   "source": [
    "def draw_text_middle(surface, text, size, color):\n",
    "    font = pygame.font.SysFont(\"Robus\", size, bold=True)\n",
    "    label = font.render(text, 1, color)\n",
    "    surface.blit(label, (top_left_x + play_width /2 - (label.get_width()/2), top_left_y + play_height/2 - label.get_height()/2))"
   ]
  },
  {
   "cell_type": "markdown",
   "metadata": {},
   "source": [
    "##### Function defined to clear the rows in the grid if it is filled"
   ]
  },
  {
   "cell_type": "code",
   "execution_count": 25,
   "metadata": {},
   "outputs": [],
   "source": [
    "def clear_rows(grid, locked):\n",
    "\n",
    "    inc = 0\n",
    "    for i in range(len(grid)-1, -1, -1):\n",
    "        row = grid[i]\n",
    "        if (0,0,0) not in row:\n",
    "            inc += 1\n",
    "            ind = i\n",
    "            for j in range(len(row)):\n",
    "                try:\n",
    "                    del locked[(j,i)]  #Delete all the block in a completed row \n",
    "                except:\n",
    "                    continue\n",
    "\n",
    "    if inc > 0:\n",
    "        for key in sorted(list(locked), key=lambda x: x[1])[::-1]:\n",
    "            x, y = key\n",
    "            if y < ind:\n",
    "                newKey = (x, y + inc)\n",
    "                locked[newKey] = locked.pop(key)\n",
    "\n",
    "    return inc    "
   ]
  },
  {
   "cell_type": "markdown",
   "metadata": {},
   "source": [
    "##### Function defined to show the next shape that is going to appear in the grid"
   ]
  },
  {
   "cell_type": "code",
   "execution_count": 26,
   "metadata": {},
   "outputs": [],
   "source": [
    "def draw_next_shape(shape, surface):\n",
    "    font = pygame.font.SysFont('comicsans', 30)\n",
    "    label = font.render('Next Shape', 1, (255,255,255))\n",
    "\n",
    "    sx = top_left_x + play_width + 50\n",
    "    sy = top_left_y + play_height/2 - 100\n",
    "    format = shape.shape[shape.rotation % len(shape.shape)]\n",
    "\n",
    "    for i, line in enumerate(format):\n",
    "        row = list(line)\n",
    "        for j, column in enumerate(row):\n",
    "            if column == '0':\n",
    "                pygame.draw.rect(surface, shape.color, (sx + j*block_size, sy + i*block_size, block_size, block_size), 0)\n",
    "\n",
    "    surface.blit(label, (sx + 10, sy - 30))"
   ]
  },
  {
   "cell_type": "markdown",
   "metadata": {},
   "source": [
    "#####  Function to check if we lost the game"
   ]
  },
  {
   "cell_type": "code",
   "execution_count": 27,
   "metadata": {},
   "outputs": [],
   "source": [
    "def check_lost(positions):\n",
    "    for pos in positions:\n",
    "        x, y = pos\n",
    "        if y < 1:\n",
    "            return True            \n",
    "\n",
    "    return False"
   ]
  },
  {
   "cell_type": "markdown",
   "metadata": {},
   "source": [
    "##### Defined different function to update the score as well as to read max score that was stored in the file "
   ]
  },
  {
   "cell_type": "code",
   "execution_count": 28,
   "metadata": {},
   "outputs": [],
   "source": [
    "def update_score(nscore):\n",
    "    score = max_score()\n",
    "\n",
    "    with open('scores.txt', 'w') as f:\n",
    "        if int(score) > nscore:\n",
    "            f.write(str(score))\n",
    "        else:\n",
    "            f.write(str(nscore))\n",
    "\n",
    "\n",
    "def max_score():\n",
    "    with open('scores.txt', 'r') as f:\n",
    "        lines = f.readlines()\n",
    "        score = lines[0].strip()\n",
    "\n",
    "    return score"
   ]
  },
  {
   "cell_type": "markdown",
   "metadata": {},
   "source": [
    "##### Function to draw the window as well as add different add different titles on the window"
   ]
  },
  {
   "cell_type": "code",
   "execution_count": 29,
   "metadata": {},
   "outputs": [],
   "source": [
    "def draw_window(surface, grid, score=0, last_score = 0):\n",
    "    surface.fill((0, 0, 0))\n",
    "    #On the top of the screen\n",
    "    pygame.font.init()\n",
    "    font = pygame.font.SysFont('comicsans', 60)\n",
    "    label = font.render('Tetris', 1, (255, 255, 255))\n",
    "\n",
    "    surface.blit(label, (top_left_x + play_width / 2 - (label.get_width() / 2), 30))\n",
    "\n",
    "    # current score\n",
    "    font = pygame.font.SysFont('comicsans', 30)\n",
    "    label = font.render('Score: ' + str(score), 1, (255,255,255))\n",
    "\n",
    "    sx = top_left_x + play_width + 50\n",
    "    sy = top_left_y + play_height/2 - 100\n",
    "\n",
    "    surface.blit(label, (sx + 20, sy + 160))\n",
    "    # last score\n",
    "    label = font.render('High Score: ' + last_score, 1, (255,255,255))\n",
    "\n",
    "    sx = top_left_x - 200\n",
    "    sy = top_left_y + 200\n",
    "\n",
    "    surface.blit(label, (sx + 20, sy + 160))\n",
    "\n",
    "    for i in range(len(grid)):\n",
    "        for j in range(len(grid[i])):\n",
    "            pygame.draw.rect(surface, grid[i][j], (top_left_x + j*block_size, top_left_y + i*block_size, block_size, block_size), 0)\n",
    "\n",
    "    pygame.draw.rect(surface, (255, 0, 0), (top_left_x, top_left_y, play_width, play_height), 5)\n",
    "\n",
    "    draw_grid(surface, grid)\n",
    "    #pygame.display.update()"
   ]
  },
  {
   "cell_type": "markdown",
   "metadata": {},
   "source": [
    "#### The Main Loop"
   ]
  },
  {
   "cell_type": "code",
   "execution_count": 30,
   "metadata": {},
   "outputs": [
    {
     "ename": "error",
     "evalue": "display Surface quit",
     "output_type": "error",
     "traceback": [
      "\u001b[1;31m---------------------------------------------------------------------------\u001b[0m",
      "\u001b[1;31merror\u001b[0m                                     Traceback (most recent call last)",
      "\u001b[1;32m<ipython-input-30-d6cf2bb90ecb>\u001b[0m in \u001b[0;36m<module>\u001b[1;34m\u001b[0m\n\u001b[0;32m    120\u001b[0m \u001b[0mwin\u001b[0m \u001b[1;33m=\u001b[0m \u001b[0mpygame\u001b[0m\u001b[1;33m.\u001b[0m\u001b[0mdisplay\u001b[0m\u001b[1;33m.\u001b[0m\u001b[0mset_mode\u001b[0m\u001b[1;33m(\u001b[0m\u001b[1;33m(\u001b[0m\u001b[0ms_width\u001b[0m\u001b[1;33m,\u001b[0m \u001b[0ms_height\u001b[0m\u001b[1;33m)\u001b[0m\u001b[1;33m)\u001b[0m\u001b[1;33m\u001b[0m\u001b[1;33m\u001b[0m\u001b[0m\n\u001b[0;32m    121\u001b[0m \u001b[0mpygame\u001b[0m\u001b[1;33m.\u001b[0m\u001b[0mdisplay\u001b[0m\u001b[1;33m.\u001b[0m\u001b[0mset_caption\u001b[0m\u001b[1;33m(\u001b[0m\u001b[1;34m'Tetris'\u001b[0m\u001b[1;33m)\u001b[0m\u001b[1;33m\u001b[0m\u001b[1;33m\u001b[0m\u001b[0m\n\u001b[1;32m--> 122\u001b[1;33m \u001b[0mmain_menu\u001b[0m\u001b[1;33m(\u001b[0m\u001b[0mwin\u001b[0m\u001b[1;33m)\u001b[0m\u001b[1;33m\u001b[0m\u001b[1;33m\u001b[0m\u001b[0m\n\u001b[0m",
      "\u001b[1;32m<ipython-input-30-d6cf2bb90ecb>\u001b[0m in \u001b[0;36mmain_menu\u001b[1;34m(win)\u001b[0m\n\u001b[0;32m    102\u001b[0m     \u001b[0mrun\u001b[0m \u001b[1;33m=\u001b[0m \u001b[1;32mTrue\u001b[0m\u001b[1;33m\u001b[0m\u001b[1;33m\u001b[0m\u001b[0m\n\u001b[0;32m    103\u001b[0m     \u001b[1;32mwhile\u001b[0m \u001b[0mrun\u001b[0m\u001b[1;33m:\u001b[0m\u001b[1;33m\u001b[0m\u001b[1;33m\u001b[0m\u001b[0m\n\u001b[1;32m--> 104\u001b[1;33m         \u001b[0mwin\u001b[0m\u001b[1;33m.\u001b[0m\u001b[0mfill\u001b[0m\u001b[1;33m(\u001b[0m\u001b[1;33m(\u001b[0m\u001b[1;36m0\u001b[0m\u001b[1;33m,\u001b[0m\u001b[1;36m0\u001b[0m\u001b[1;33m,\u001b[0m\u001b[1;36m0\u001b[0m\u001b[1;33m)\u001b[0m\u001b[1;33m)\u001b[0m\u001b[1;33m\u001b[0m\u001b[1;33m\u001b[0m\u001b[0m\n\u001b[0m\u001b[0;32m    105\u001b[0m         \u001b[0mdraw_text_middle\u001b[0m\u001b[1;33m(\u001b[0m\u001b[0mwin\u001b[0m\u001b[1;33m,\u001b[0m \u001b[1;34m'Press Any Key to Start the Game'\u001b[0m\u001b[1;33m,\u001b[0m \u001b[1;36m60\u001b[0m\u001b[1;33m,\u001b[0m \u001b[1;33m(\u001b[0m\u001b[1;36m255\u001b[0m\u001b[1;33m,\u001b[0m\u001b[1;36m255\u001b[0m\u001b[1;33m,\u001b[0m\u001b[1;36m255\u001b[0m\u001b[1;33m)\u001b[0m\u001b[1;33m)\u001b[0m\u001b[1;33m\u001b[0m\u001b[1;33m\u001b[0m\u001b[0m\n\u001b[0;32m    106\u001b[0m         \u001b[0mpygame\u001b[0m\u001b[1;33m.\u001b[0m\u001b[0mdisplay\u001b[0m\u001b[1;33m.\u001b[0m\u001b[0mupdate\u001b[0m\u001b[1;33m(\u001b[0m\u001b[1;33m)\u001b[0m\u001b[1;33m\u001b[0m\u001b[1;33m\u001b[0m\u001b[0m\n",
      "\u001b[1;31merror\u001b[0m: display Surface quit"
     ]
    }
   ],
   "source": [
    "def main(win):  # *\n",
    "    last_score = max_score()\n",
    "    locked_positions = {}\n",
    "    grid = create_grid(locked_positions)\n",
    "\n",
    "    change_piece = False\n",
    "    run = True\n",
    "    current_piece = get_shape()\n",
    "    next_piece = get_shape()\n",
    "    clock = pygame.time.Clock()\n",
    "    fall_time = 0\n",
    "    fall_speed = 0.27\n",
    "    level_time = 0\n",
    "    score = 0\n",
    "\n",
    "    while run:\n",
    "        grid = create_grid(locked_positions)\n",
    "        fall_time += clock.get_rawtime()\n",
    "        level_time += clock.get_rawtime()\n",
    "        clock.tick()\n",
    "\n",
    "        if level_time/1000 > 5:  #Convert millisceods into seconds\n",
    "            level_time = 0\n",
    "            if level_time > 0.12:\n",
    "                level_time -= 0.005\n",
    "\n",
    "        if fall_time/1000 > fall_speed:\n",
    "            fall_time = 0\n",
    "            current_piece.y += 1\n",
    "            if not(valid_space(current_piece, grid)) and current_piece.y > 0:\n",
    "                current_piece.y -= 1\n",
    "                change_piece = True\n",
    "\n",
    "        for event in pygame.event.get():\n",
    "            if event.type == pygame.QUIT:\n",
    "                run = False\n",
    "                pygame.display.quit()\n",
    "\n",
    "            if event.type == pygame.KEYDOWN: #Define the key function for the key presses  \n",
    "                if event.key == pygame.K_LEFT:\n",
    "                    current_piece.x -= 1\n",
    "                    if not(valid_space(current_piece, grid)):\n",
    "                        current_piece.x += 1\n",
    "                if event.key == pygame.K_RIGHT:\n",
    "                    current_piece.x += 1\n",
    "                    if not(valid_space(current_piece, grid)):\n",
    "                        current_piece.x -= 1\n",
    "                if event.key == pygame.K_DOWN:\n",
    "                    current_piece.y += 1\n",
    "                    if not(valid_space(current_piece, grid)):\n",
    "                        current_piece.y -= 1\n",
    "                if event.key == pygame.K_UP:\n",
    "                    current_piece.rotation += 1\n",
    "                    if not(valid_space(current_piece, grid)):\n",
    "                        current_piece.rotation -= 1\n",
    "                if event.key == pygame.K_SPACE:\n",
    "                    while valid_space(current_piece, grid):\n",
    "                        current_piece.y += 1\n",
    "                    current_piece.y -= 1\n",
    "                if event.key == pygame.K_ESCAPE:\n",
    "                    run = False\n",
    "                    break\n",
    "        shape_pos = convert_shape_format(current_piece)\n",
    "\n",
    "        for i in range(len(shape_pos)):\n",
    "            x, y = shape_pos[i]\n",
    "            if y > -1:\n",
    "                grid[y][x] = current_piece.color\n",
    "\n",
    "        if change_piece:\n",
    "            for pos in shape_pos:\n",
    "                p = (pos[0], pos[1])\n",
    "                locked_positions[p] = current_piece.color\n",
    "            current_piece = next_piece\n",
    "            next_piece = get_shape()\n",
    "            change_piece = False\n",
    "            score += clear_rows(grid, locked_positions) * 10\n",
    "\n",
    "        draw_window(win, grid, score, last_score)\n",
    "        draw_next_shape(next_piece, win)\n",
    "        pygame.display.update()\n",
    "\n",
    "        if check_lost(locked_positions):\n",
    "            draw_text_middle(win, \"YOU LOST!\", 80, (255,255,255))\n",
    "            pygame.display.update()\n",
    "            pygame.time.delay(1500)\n",
    "            run = False\n",
    "            update_score(score)\n",
    "            for event in pygame.event.get():\n",
    "                if event.type == pygame.QUIT:\n",
    "                    run = False\n",
    "                    pygame.display.quit()\n",
    "\n",
    "                pygame.display.quit()\n",
    "                if event.type == pygame.KEYDOWN:\n",
    "                    main(win)\n",
    "                    if event.key == pygame.K_ESCAPE:\n",
    "                        run = False\n",
    "                        break\n",
    "\n",
    "def main_menu(win):  # *\n",
    "    run = True\n",
    "    while run:\n",
    "        win.fill((0,0,0))\n",
    "        draw_text_middle(win, 'Press Any Key to Start the Game', 60, (255,255,255))\n",
    "        pygame.display.update()\n",
    "        for event in pygame.event.get():\n",
    "            if event.type == pygame.QUIT:\n",
    "                run = False\n",
    "                pygame.display.quit()\n",
    "\n",
    "            if event.type == pygame.KEYDOWN:\n",
    "                main(win)\n",
    "                if event.key == pygame.K_ESCAPE:\n",
    "                    run = False\n",
    "                    break\n",
    "    pygame.display.quit()\n",
    "\n",
    "\n",
    "win = pygame.display.set_mode((s_width, s_height))\n",
    "pygame.display.set_caption('Tetris')\n",
    "main_menu(win)"
   ]
  }
 ],
 "metadata": {
  "kernelspec": {
   "display_name": "Python 3",
   "language": "python",
   "name": "python3"
  },
  "language_info": {
   "codemirror_mode": {
    "name": "ipython",
    "version": 3
   },
   "file_extension": ".py",
   "mimetype": "text/x-python",
   "name": "python",
   "nbconvert_exporter": "python",
   "pygments_lexer": "ipython3",
   "version": "3.8.5"
  }
 },
 "nbformat": 4,
 "nbformat_minor": 4
}
